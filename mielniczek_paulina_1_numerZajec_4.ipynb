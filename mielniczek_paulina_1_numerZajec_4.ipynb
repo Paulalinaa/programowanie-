{
  "nbformat": 4,
  "nbformat_minor": 0,
  "metadata": {
    "colab": {
      "provenance": []
    },
    "kernelspec": {
      "name": "python3",
      "display_name": "Python 3"
    },
    "language_info": {
      "name": "python"
    }
  },
  "cells": [
    {
      "cell_type": "markdown",
      "source": [
        "1"
      ],
      "metadata": {
        "id": "z4iiWkQ3wxim"
      }
    },
    {
      "cell_type": "code",
      "source": [
        "n = int(input(\"Podaj liczbę rzędów: \"))\n",
        "\n",
        "row_counter = (n)\n",
        "for i in range(1, n):\n",
        "  for j in range(1, i + 1):\n",
        "    print(j, end=\" \")\n",
        "  print()"
      ],
      "metadata": {
        "colab": {
          "base_uri": "https://localhost:8080/"
        },
        "id": "JH6nXuuBwxLE",
        "outputId": "a3e0197a-2948-4e9b-a6f8-884bb0d63637"
      },
      "execution_count": 31,
      "outputs": [
        {
          "output_type": "stream",
          "name": "stdout",
          "text": [
            "Podaj liczbę rzędów: 8\n",
            "1 \n",
            "1 2 \n",
            "1 2 3 \n",
            "1 2 3 4 \n",
            "1 2 3 4 5 \n",
            "1 2 3 4 5 6 \n",
            "1 2 3 4 5 6 7 \n"
          ]
        }
      ]
    },
    {
      "cell_type": "markdown",
      "source": [
        "2"
      ],
      "metadata": {
        "id": "RmEwB8uer7RA"
      }
    },
    {
      "cell_type": "code",
      "source": [
        "n = 5\n",
        "\n",
        "for i in range(i, n+1):\n",
        "  print(\"*\" * i)\n",
        "for i in range(n-1, 0, -1):\n",
        "  print(\"*\" * i)"
      ],
      "metadata": {
        "colab": {
          "base_uri": "https://localhost:8080/"
        },
        "id": "qpkiAp46r6yR",
        "outputId": "4a859b22-998e-4dd5-df8c-bd0b15bcce6e"
      },
      "execution_count": 26,
      "outputs": [
        {
          "output_type": "stream",
          "name": "stdout",
          "text": [
            "*\n",
            "**\n",
            "***\n",
            "****\n",
            "*****\n",
            "****\n",
            "***\n",
            "**\n",
            "*\n"
          ]
        }
      ]
    },
    {
      "cell_type": "markdown",
      "source": [
        "3A"
      ],
      "metadata": {
        "id": "RoC0r8Nsq8zD"
      }
    },
    {
      "cell_type": "code",
      "source": [
        "lista = [6, 2, 3, 7, 1, 12, 56, 99]"
      ],
      "metadata": {
        "id": "NHASFXTzrc9o"
      },
      "execution_count": 18,
      "outputs": []
    },
    {
      "cell_type": "code",
      "execution_count": 24,
      "metadata": {
        "colab": {
          "base_uri": "https://localhost:8080/"
        },
        "id": "YbId0jqDn3J4",
        "outputId": "f01d764e-60ec-482b-c12c-6080eca92d34"
      },
      "outputs": [
        {
          "output_type": "stream",
          "name": "stdout",
          "text": [
            "[6, 2, 3, 7, 1, 'kot', 'kot', 'kot']\n"
          ]
        }
      ],
      "source": [
        "def zamien_kot(lista):\n",
        "  for i in range(len(lista)):\n",
        "    if isinstance(lista[i], int) and 10 <=lista[i]:\n",
        "      lista[i] = \"kot\"\n",
        "\n",
        "zamien_kot(lista)\n",
        "print(lista)"
      ]
    },
    {
      "cell_type": "markdown",
      "source": [
        "3B"
      ],
      "metadata": {
        "id": "tM1n-x53rEJq"
      }
    },
    {
      "cell_type": "code",
      "source": [
        "min(lista)"
      ],
      "metadata": {
        "colab": {
          "base_uri": "https://localhost:8080/"
        },
        "id": "rZK1IXOgrFRA",
        "outputId": "e5701f81-d96f-4429-b66e-048a0041f9c2"
      },
      "execution_count": 19,
      "outputs": [
        {
          "output_type": "execute_result",
          "data": {
            "text/plain": [
              "1"
            ]
          },
          "metadata": {},
          "execution_count": 19
        }
      ]
    }
  ]
}