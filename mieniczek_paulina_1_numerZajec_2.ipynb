{
  "nbformat": 4,
  "nbformat_minor": 0,
  "metadata": {
    "colab": {
      "provenance": []
    },
    "kernelspec": {
      "name": "python3",
      "display_name": "Python 3"
    },
    "language_info": {
      "name": "python"
    }
  },
  "cells": [
    {
      "cell_type": "markdown",
      "source": [
        "Zadanie 1"
      ],
      "metadata": {
        "id": "jGmmYhOpLPov"
      }
    },
    {
      "cell_type": "markdown",
      "source": [
        "a"
      ],
      "metadata": {
        "id": "3pWgDMc2Yvzv"
      }
    },
    {
      "cell_type": "code",
      "execution_count": null,
      "metadata": {
        "colab": {
          "base_uri": "https://localhost:8080/",
          "height": 35
        },
        "id": "mtOogxApLMjN",
        "outputId": "a434fa46-0170-4f0b-f3f7-cbba3ce77207"
      },
      "outputs": [
        {
          "output_type": "execute_result",
          "data": {
            "text/plain": [
              "'ęcia z pro'"
            ],
            "application/vnd.google.colaboratory.intrinsic+json": {
              "type": "string"
            }
          },
          "metadata": {},
          "execution_count": 1
        }
      ],
      "source": [
        "x = \"Uwielbiam zajęcia z programowania\"\n",
        "x[13:23]"
      ]
    },
    {
      "cell_type": "markdown",
      "source": [
        "b"
      ],
      "metadata": {
        "id": "24G6T73wYw_R"
      }
    },
    {
      "cell_type": "code",
      "source": [
        "x[-33:]"
      ],
      "metadata": {
        "colab": {
          "base_uri": "https://localhost:8080/",
          "height": 35
        },
        "id": "IcP0VvtiMrx7",
        "outputId": "455cc964-482a-4ed9-a7a5-fc8ecc8e683b"
      },
      "execution_count": null,
      "outputs": [
        {
          "output_type": "execute_result",
          "data": {
            "text/plain": [
              "'Uwielbiam zajęcia z programowania'"
            ],
            "application/vnd.google.colaboratory.intrinsic+json": {
              "type": "string"
            }
          },
          "metadata": {},
          "execution_count": 4
        }
      ]
    },
    {
      "cell_type": "markdown",
      "source": [
        "c"
      ],
      "metadata": {
        "id": "n4LXl7n6Yy5N"
      }
    },
    {
      "cell_type": "code",
      "source": [
        "x[1: :3]"
      ],
      "metadata": {
        "colab": {
          "base_uri": "https://localhost:8080/",
          "height": 35
        },
        "id": "aByNqzKeNUCh",
        "outputId": "a3565def-0d8c-43b6-dcb8-10387ddf408f"
      },
      "execution_count": null,
      "outputs": [
        {
          "output_type": "execute_result",
          "data": {
            "text/plain": [
              "'wlazęa oawi'"
            ],
            "application/vnd.google.colaboratory.intrinsic+json": {
              "type": "string"
            }
          },
          "metadata": {},
          "execution_count": 5
        }
      ]
    },
    {
      "cell_type": "markdown",
      "source": [
        "Zadanie 2"
      ],
      "metadata": {
        "id": "lZwJ06p6OXoT"
      }
    },
    {
      "cell_type": "code",
      "source": [
        "x = \"Czarny to mój ulubiony kolor, niestety, kolor czarny bardzo szybko spiera się z moich ubrań\""
      ],
      "metadata": {
        "id": "1d9RoeE6UvMV"
      },
      "execution_count": null,
      "outputs": []
    },
    {
      "cell_type": "markdown",
      "source": [
        "a"
      ],
      "metadata": {
        "id": "RQB4v-oiYgLw"
      }
    },
    {
      "cell_type": "code",
      "source": [
        "x.isupper()"
      ],
      "metadata": {
        "id": "JEaBSQgMYLEG"
      },
      "execution_count": null,
      "outputs": []
    },
    {
      "cell_type": "markdown",
      "source": [
        "b"
      ],
      "metadata": {
        "id": "8ZZ_PNg1YkS7"
      }
    },
    {
      "cell_type": "code",
      "source": [
        "x.startswith(\"C\")"
      ],
      "metadata": {
        "id": "4uDBlq_yYU-t"
      },
      "execution_count": null,
      "outputs": []
    },
    {
      "cell_type": "markdown",
      "source": [
        "c"
      ],
      "metadata": {
        "id": "u3GuGAUDYmWz"
      }
    },
    {
      "cell_type": "code",
      "source": [
        "x.replace(\"Czarny\", \"Zielony\").replace(\"czarny\", \"zielony\")"
      ],
      "metadata": {
        "id": "106R7F_5bs5H"
      },
      "execution_count": null,
      "outputs": []
    }
  ]
}