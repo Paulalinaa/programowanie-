{
  "nbformat": 4,
  "nbformat_minor": 0,
  "metadata": {
    "colab": {
      "provenance": []
    },
    "kernelspec": {
      "name": "python3",
      "display_name": "Python 3"
    },
    "language_info": {
      "name": "python"
    }
  },
  "cells": [
    {
      "cell_type": "markdown",
      "source": [
        "imię"
      ],
      "metadata": {
        "id": "Mq_XOMdvp1Ct"
      }
    },
    {
      "cell_type": "code",
      "execution_count": 2,
      "metadata": {
        "colab": {
          "base_uri": "https://localhost:8080/"
        },
        "id": "3z84NnHleWaQ",
        "outputId": "0b4bf379-20d3-4361-edf3-4eb6740e039d"
      },
      "outputs": [
        {
          "output_type": "stream",
          "name": "stdout",
          "text": [
            "Imie: paulina\n",
            "ok\n"
          ]
        }
      ],
      "source": [
        "imie = input(\"Imie: \")\n",
        "if imie.isalpha():\n",
        "  print(\"ok\")\n",
        "else:\n",
        "  print (\"błąd\")"
      ]
    },
    {
      "cell_type": "markdown",
      "source": [
        "nazwisko"
      ],
      "metadata": {
        "id": "uERiD54Pp6j3"
      }
    },
    {
      "cell_type": "code",
      "source": [
        "nazwisko = input(\"nazwisko: \")\n",
        "if nazwisko.isalpha():\n",
        "  print(\"ok\")\n",
        "else:\n",
        "  print(\"błąd\")"
      ],
      "metadata": {
        "id": "GEUV9S_Op9Su",
        "colab": {
          "base_uri": "https://localhost:8080/"
        },
        "outputId": "e4124981-dc75-4603-8321-7fd85dbb64a1"
      },
      "execution_count": 4,
      "outputs": [
        {
          "output_type": "stream",
          "name": "stdout",
          "text": [
            "nazwisko: Mielniczek\n",
            "ok\n"
          ]
        }
      ]
    },
    {
      "cell_type": "markdown",
      "source": [
        "wiek"
      ],
      "metadata": {
        "id": "pLGM-R53qJru"
      }
    },
    {
      "cell_type": "code",
      "source": [
        "wiek = input(\"wiek: \")\n",
        "if wiek.isdigit():\n",
        "  print(\"ok\")\n",
        "else:\n",
        "  print(\"błąd\")"
      ],
      "metadata": {
        "id": "lspU2HKKqMif",
        "colab": {
          "base_uri": "https://localhost:8080/"
        },
        "outputId": "115d2121-dddc-4fc7-9a6a-947fe179bb42"
      },
      "execution_count": 5,
      "outputs": [
        {
          "output_type": "stream",
          "name": "stdout",
          "text": [
            "wiek: 23\n",
            "ok\n"
          ]
        }
      ]
    },
    {
      "cell_type": "markdown",
      "source": [
        "hasło"
      ],
      "metadata": {
        "id": "8xEi5wqWqY1p"
      }
    },
    {
      "cell_type": "code",
      "source": [
        "hasło = input(\"hasło: \")\n",
        "powtórz_hasło = input(\"powtórz hasło: \")\n",
        "if hasło == powtórz_hasło:\n",
        "  print(\"ok\")\n",
        "else:\n",
        "  print(\"hasła są różne\")"
      ],
      "metadata": {
        "colab": {
          "base_uri": "https://localhost:8080/"
        },
        "id": "V0mz-0MEqanW",
        "outputId": "c448ad88-17fc-42c4-adce-b58135a742ec"
      },
      "execution_count": 11,
      "outputs": [
        {
          "output_type": "stream",
          "name": "stdout",
          "text": [
            "hasło: 123\n",
            "powtórz hasło: 123\n",
            "ok\n"
          ]
        }
      ]
    },
    {
      "cell_type": "code",
      "source": [
        "print(\"Dane użytkownika\")\n",
        "print(\"Imię:\", imie)\n",
        "print(\"Nazwisko:\", nazwisko)\n",
        "print(\"wiek:\", wiek)\n",
        "print(\"hasło:\", hasło)"
      ],
      "metadata": {
        "colab": {
          "base_uri": "https://localhost:8080/"
        },
        "id": "AlUXs4oz_c0s",
        "outputId": "0debaa01-f9c6-4c84-9ce5-89c2a08b2e42"
      },
      "execution_count": 12,
      "outputs": [
        {
          "output_type": "stream",
          "name": "stdout",
          "text": [
            "Dane użytkownika\n",
            "Imię: paulina\n",
            "Nazwisko: Mielniczek\n",
            "wiek: 23\n",
            "hasło: 123\n"
          ]
        }
      ]
    },
    {
      "cell_type": "markdown",
      "source": [
        "kalkulator"
      ],
      "metadata": {
        "id": "caTh1OrOrtGl"
      }
    },
    {
      "cell_type": "code",
      "source": [
        "dane1 = input(\"wpisz cyfrę: \")\n",
        "if dane1.isalpha():\n",
        "  print(\"błąd\")\n",
        "\n",
        "dane1 = int(dane1)\n",
        "dane2 = input(\"wpisz drugą cyfrę: \")\n",
        "if dane2.isalpha():\n",
        "  print(\"błąd\")\n",
        "dane2 = int(dane2)\n",
        "dane3 = input(\"wybierz rodzaj operacji (+, -, *, /): \")\n",
        "\n",
        "if dane3 == \"+\":\n",
        "  print(dane1+dane2)\n",
        "elif dane3 == \"-\":\n",
        "  print(dane1-dane2)\n",
        "elif dane3 == \"*\":\n",
        "  print(dane1*dane2)\n",
        "elif dane3 == \"/\":\n",
        "  print(dane1/dane2)\n",
        "else:\n",
        "  print(\"błąd\")"
      ],
      "metadata": {
        "colab": {
          "base_uri": "https://localhost:8080/",
          "height": 280
        },
        "id": "1fSYsNQeruh5",
        "outputId": "918f031c-de31-4cb1-9db7-8ae5e14e4ec9"
      },
      "execution_count": 14,
      "outputs": [
        {
          "output_type": "stream",
          "name": "stdout",
          "text": [
            "wpisz cyfrę: f\n",
            "błąd\n"
          ]
        },
        {
          "output_type": "error",
          "ename": "ValueError",
          "evalue": "ignored",
          "traceback": [
            "\u001b[0;31m---------------------------------------------------------------------------\u001b[0m",
            "\u001b[0;31mValueError\u001b[0m                                Traceback (most recent call last)",
            "\u001b[0;32m<ipython-input-14-75980cec31c9>\u001b[0m in \u001b[0;36m<cell line: 5>\u001b[0;34m()\u001b[0m\n\u001b[1;32m      3\u001b[0m   \u001b[0mprint\u001b[0m\u001b[0;34m(\u001b[0m\u001b[0;34m\"błąd\"\u001b[0m\u001b[0;34m)\u001b[0m\u001b[0;34m\u001b[0m\u001b[0;34m\u001b[0m\u001b[0m\n\u001b[1;32m      4\u001b[0m \u001b[0;34m\u001b[0m\u001b[0m\n\u001b[0;32m----> 5\u001b[0;31m \u001b[0mdane1\u001b[0m \u001b[0;34m=\u001b[0m \u001b[0mint\u001b[0m\u001b[0;34m(\u001b[0m\u001b[0mdane1\u001b[0m\u001b[0;34m)\u001b[0m\u001b[0;34m\u001b[0m\u001b[0;34m\u001b[0m\u001b[0m\n\u001b[0m\u001b[1;32m      6\u001b[0m \u001b[0mdane2\u001b[0m \u001b[0;34m=\u001b[0m \u001b[0minput\u001b[0m\u001b[0;34m(\u001b[0m\u001b[0;34m\"wpisz drugą cyfrę: \"\u001b[0m\u001b[0;34m)\u001b[0m\u001b[0;34m\u001b[0m\u001b[0;34m\u001b[0m\u001b[0m\n\u001b[1;32m      7\u001b[0m \u001b[0;32mif\u001b[0m \u001b[0mdane2\u001b[0m\u001b[0;34m.\u001b[0m\u001b[0misalpha\u001b[0m\u001b[0;34m(\u001b[0m\u001b[0;34m)\u001b[0m\u001b[0;34m:\u001b[0m\u001b[0;34m\u001b[0m\u001b[0;34m\u001b[0m\u001b[0m\n",
            "\u001b[0;31mValueError\u001b[0m: invalid literal for int() with base 10: 'f'"
          ]
        }
      ]
    }
  ]
}