{
  "nbformat": 4,
  "nbformat_minor": 0,
  "metadata": {
    "colab": {
      "provenance": []
    },
    "kernelspec": {
      "name": "python3",
      "display_name": "Python 3"
    },
    "language_info": {
      "name": "python"
    }
  },
  "cells": [
    {
      "cell_type": "markdown",
      "source": [
        "imię"
      ],
      "metadata": {
        "id": "Mq_XOMdvp1Ct"
      }
    },
    {
      "cell_type": "code",
      "execution_count": null,
      "metadata": {
        "colab": {
          "base_uri": "https://localhost:8080/"
        },
        "id": "3z84NnHleWaQ",
        "outputId": "e8609b93-4652-448c-d4fd-7859230eec63"
      },
      "outputs": [
        {
          "output_type": "stream",
          "name": "stdout",
          "text": [
            "Imie: fdaa\n",
            "ok\n"
          ]
        }
      ],
      "source": [
        "imie = input(\"Imie: \")\n",
        "if imie.isalpha():\n",
        "  print(\"ok\")\n",
        "else:\n",
        "  print (\"błąd\")"
      ]
    },
    {
      "cell_type": "markdown",
      "source": [
        "nazwisko"
      ],
      "metadata": {
        "id": "uERiD54Pp6j3"
      }
    },
    {
      "cell_type": "code",
      "source": [
        "nazwisko = input(\"nazwisko: \")\n",
        "if nazwisko.isalpha():\n",
        "  print(\"ok\")\n",
        "else:\n",
        "  print(\"błąd\")"
      ],
      "metadata": {
        "id": "GEUV9S_Op9Su"
      },
      "execution_count": null,
      "outputs": []
    },
    {
      "cell_type": "markdown",
      "source": [
        "wiek"
      ],
      "metadata": {
        "id": "pLGM-R53qJru"
      }
    },
    {
      "cell_type": "code",
      "source": [
        "wiek = input(\"wiek: \")\n",
        "if wiek.isdigit():\n",
        "  print(\"ok\")\n",
        "else:\n",
        "  print(\"błąd\")"
      ],
      "metadata": {
        "id": "lspU2HKKqMif"
      },
      "execution_count": null,
      "outputs": []
    },
    {
      "cell_type": "markdown",
      "source": [
        "hasło"
      ],
      "metadata": {
        "id": "8xEi5wqWqY1p"
      }
    },
    {
      "cell_type": "code",
      "source": [
        "hasło = input(\"hasło: \")\n",
        "powtórz_hasło = input(\"powtórz hasło: \")\n",
        "if hasło == powtórz_hasło:\n",
        "  print(\"ok\")\n",
        "else:\n",
        "  print(\"hasła są różne\")"
      ],
      "metadata": {
        "colab": {
          "base_uri": "https://localhost:8080/"
        },
        "id": "V0mz-0MEqanW",
        "outputId": "37c05fe2-d786-4796-83e9-c89605adf0dd"
      },
      "execution_count": 35,
      "outputs": [
        {
          "output_type": "stream",
          "name": "stdout",
          "text": [
            "hasło: 234\n",
            "powtórz hasło: 235\n",
            "hasła są różne\n"
          ]
        }
      ]
    },
    {
      "cell_type": "markdown",
      "source": [
        "kalkulator"
      ],
      "metadata": {
        "id": "caTh1OrOrtGl"
      }
    },
    {
      "cell_type": "code",
      "source": [
        "dane1 = input(\"wpisz cyfrę: \")\n",
        "if dane1.isalpha():\n",
        "  print(\"błąd\")\n",
        "\n",
        "dane1 = int(dane1)\n",
        "dane2 = input(\"wpisz drugą cyfrę: \")\n",
        "if dane2.isalpha():\n",
        "  print(\"błąd\")\n",
        "dane2 = int(dane2)\n",
        "dane3 = input(\"wybierz rodzaj operacji (+, -, *, /): \")\n",
        "\n",
        "\n",
        "if dane3 == \"+\":\n",
        "  print(dane1+dane2)\n",
        "elif dane3 == \"-\":\n",
        "  print(dane1-dane2)\n",
        "elif dane3 == \"*\":\n",
        "  print(dane1*dane2)\n",
        "elif dane3 == \"/\":\n",
        "  print(dane1/dane2)\n",
        "else:\n",
        "  print(\"błąd\")"
      ],
      "metadata": {
        "colab": {
          "base_uri": "https://localhost:8080/"
        },
        "id": "1fSYsNQeruh5",
        "outputId": "50a5026f-91f4-4bfd-9552-7ca11eac4039"
      },
      "execution_count": 45,
      "outputs": [
        {
          "output_type": "stream",
          "name": "stdout",
          "text": [
            "wpisz cyfrę: 3\n",
            "wpisz drugą cyfrę: 2\n",
            "wybierz rodzaj operacji (+, -, *, /): +\n",
            "5\n"
          ]
        }
      ]
    }
  ]
}