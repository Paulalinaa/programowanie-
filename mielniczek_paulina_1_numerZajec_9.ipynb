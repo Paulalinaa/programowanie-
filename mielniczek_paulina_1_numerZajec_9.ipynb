{
  "nbformat": 4,
  "nbformat_minor": 0,
  "metadata": {
    "colab": {
      "provenance": []
    },
    "kernelspec": {
      "name": "python3",
      "display_name": "Python 3"
    },
    "language_info": {
      "name": "python"
    }
  },
  "cells": [
    {
      "cell_type": "code",
      "execution_count": 1,
      "metadata": {
        "id": "8PIYgHkGGOFf"
      },
      "outputs": [],
      "source": [
        "import re\n",
        "tekst1 = \"Imię i nazwisko: Hubar, Patryk. Data urodzenia: 7 czerwca 1993. Numer telefonu: 123-456-789\"\n",
        "\n",
        "imie_nazwisko_pattern = re.compile(r\"Imię i nazwisko: (\\w+, \\w+)\\.\")\n",
        "data_urodzenia_pattern = re.compile(r\"Data urodzenia: ([\\w\\s]+ \\d{4})\\.\")\n",
        "numer_telefonu_pattern = re.compile(r\"Numer telefonu: (\\d{3}-\\d{3}-\\d{3})\")\n",
        "\n",
        "imie_nazwisko_match = imie_nazwisko_pattern.search(tekst1)\n",
        "data_urodzenia_match = data_urodzenia_pattern.search(tekst1)\n",
        "numer_telefonu_match = numer_telefonu_pattern.search(tekst1)"
      ]
    },
    {
      "cell_type": "code",
      "source": [
        "if imie_nazwisko_match:\n",
        "    imie_nazwisko_tekst1 = imie_nazwisko_match.group(1)\n",
        "    print(\"Imię i nazwisko:\", imie_nazwisko_tekst1)\n",
        "\n",
        "if data_urodzenia_match:\n",
        "    data_urodzenia_tekst1 = data_urodzenia_match.group(1)\n",
        "    print(\"Data urodzenia:\", data_urodzenia_tekst1)\n",
        "\n",
        "if numer_telefonu_match:\n",
        "    numer_telefonu_tekst1 = numer_telefonu_match.group(1)\n",
        "    print(\"Numer telefonu:\", numer_telefonu_tekst1)"
      ],
      "metadata": {
        "colab": {
          "base_uri": "https://localhost:8080/"
        },
        "id": "8klGkdNHGQh1",
        "outputId": "e7cb9568-2979-4d47-83fa-897baf10c9c9"
      },
      "execution_count": 2,
      "outputs": [
        {
          "output_type": "stream",
          "name": "stdout",
          "text": [
            "Imię i nazwisko: Hubar, Patryk\n",
            "Data urodzenia: 7 czerwca 1993\n",
            "Numer telefonu: 123-456-789\n"
          ]
        }
      ]
    },
    {
      "cell_type": "code",
      "source": [
        "tekst2 = \"Imię i nazwisko: Mickiewicz, Adam. Data urodzenia: 22 stycznia 1877. Numer telefonu: 789-456-123\"\n",
        "imie_nazwisko_match = imie_nazwisko_pattern.search(tekst2)\n",
        "data_urodzenia_match = data_urodzenia_pattern.search(tekst2)\n",
        "numer_telefonu_match = numer_telefonu_pattern.search(tekst2)"
      ],
      "metadata": {
        "id": "sxOsOB34GRXR"
      },
      "execution_count": 3,
      "outputs": []
    },
    {
      "cell_type": "code",
      "source": [
        "if imie_nazwisko_match:\n",
        "    imie_nazwisko_tekst2 = imie_nazwisko_match.group(1)\n",
        "    print(\"\\nImię i nazwisko:\", imie_nazwisko_tekst2)\n",
        "\n",
        "if data_urodzenia_match:\n",
        "    data_urodzenia_tekst2 = data_urodzenia_match.group(1)\n",
        "    print(\"Data urodzenia:\", data_urodzenia_tekst2)\n",
        "\n",
        "if numer_telefonu_match:\n",
        "    numer_telefonu_tekst2 = numer_telefonu_match.group(1)\n",
        "    print(\"Numer telefonu:\", numer_telefonu_tekst2)"
      ],
      "metadata": {
        "colab": {
          "base_uri": "https://localhost:8080/"
        },
        "id": "j4qWThpaGTN8",
        "outputId": "b8ff44ed-706a-4319-a7de-1c350ab4988c"
      },
      "execution_count": 4,
      "outputs": [
        {
          "output_type": "stream",
          "name": "stdout",
          "text": [
            "\n",
            "Imię i nazwisko: Mickiewicz, Adam\n",
            "Data urodzenia: 22 stycznia 1877\n",
            "Numer telefonu: 789-456-123\n"
          ]
        }
      ]
    }
  ]
}